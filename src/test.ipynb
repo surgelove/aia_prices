{
 "cells": [
  {
   "cell_type": "code",
   "execution_count": 1,
   "id": "f8f3cce2",
   "metadata": {},
   "outputs": [],
   "source": [
    "import pandas as pd\n",
    "\n",
    "def format_timestamp(ts):\n",
    "    \"\"\"Return timestamp as 'YYYY-MM-DD HH:MM:SS.ffffff Z' and normalize to UTC.\n",
    "\n",
    "    Prefers a broker-provided ISO 'time' string (which may include 'Z' for UTC).\n",
    "    If given a naive datetime, assumes UTC (change to localize differently if your broker docs say otherwise).\n",
    "    \"\"\"\n",
    "    if ts is None:\n",
    "        return str(ts)\n",
    "    try:\n",
    "        # If caller passed the whole price dict, prefer its 'time' ISO string\n",
    "        if isinstance(ts, dict):\n",
    "            iso = ts.get('time') or ts.get('timestamp')\n",
    "            if iso:\n",
    "                parsed = pd.to_datetime(iso, utc=True)\n",
    "                return parsed.strftime('%Y-%m-%d %H:%M:%S.%f %Z')\n",
    "\n",
    "        # If it's a string, parse with UTC awareness (handles trailing 'Z')\n",
    "        if isinstance(ts, str):\n",
    "            parsed = pd.to_datetime(ts, utc=True)\n",
    "            return parsed.strftime('%Y-%m-%d %H:%M:%S.%f %Z')\n",
    "\n",
    "        # If it's a datetime-like object\n",
    "        if hasattr(ts, 'tzinfo'):\n",
    "            # pd.Timestamp will preserve tz if present; if naive, localize to UTC\n",
    "            ts_ts = pd.Timestamp(ts)\n",
    "            if ts_ts.tzinfo is None:\n",
    "                ts_ts = ts_ts.tz_localize('UTC')\n",
    "            else:\n",
    "                ts_ts = ts_ts.tz_convert('UTC')\n",
    "            return ts_ts.strftime('%Y-%m-%d %H:%M:%S.%f %Z')\n",
    "\n",
    "        # Fallback to pandas parsing (makes result UTC-aware)\n",
    "        parsed = pd.to_datetime(ts, utc=True)\n",
    "        return parsed.strftime('%Y-%m-%d %H:%M:%S.%f %Z')\n",
    "    except Exception:\n",
    "        return str(ts)"
   ]
  },
  {
   "cell_type": "code",
   "execution_count": 2,
   "id": "2a014154",
   "metadata": {},
   "outputs": [
    {
     "data": {
      "text/plain": [
       "'2025-09-05 13:28:10.661170 UTC'"
      ]
     },
     "execution_count": 2,
     "metadata": {},
     "output_type": "execute_result"
    }
   ],
   "source": [
    "import datetime\n",
    "format_timestamp(datetime.datetime(2025, 9, 5, 13, 28, 10, 661170),)  # Example usage"
   ]
  },
  {
   "cell_type": "code",
   "execution_count": 7,
   "id": "4aa77e0a",
   "metadata": {},
   "outputs": [
    {
     "name": "stdout",
     "output_type": "stream",
     "text": [
      "1757078890661\n"
     ]
    }
   ],
   "source": [
    "# ...existing code...\n",
    "import calendar\n",
    "import datetime\n",
    "\n",
    "def to_millis(dt, assume_utc=True):\n",
    "    \"\"\"Convert datetime -> int milliseconds since epoch (UTC).\n",
    "    Uses integer arithmetic (calendar.timegm) to avoid float timestamp() cost.\n",
    "    Truncates microseconds to millisecond precision.\n",
    "    \"\"\"\n",
    "    # If naive, assume UTC (change if broker docs say otherwise)\n",
    "    if dt.tzinfo is None and assume_utc:\n",
    "        seconds = calendar.timegm(dt.timetuple())\n",
    "    else:\n",
    "        # Make UTC-aware and use timegm on UTC timetuple\n",
    "        dt_utc = dt.astimezone(datetime.timezone.utc) if dt.tzinfo is not None else dt\n",
    "        seconds = calendar.timegm(dt_utc.timetuple())\n",
    "    return seconds * 1000 + (dt.microsecond // 1000)\n",
    "\n",
    "def from_millis(ms):\n",
    "    \"\"\"Convert int milliseconds since epoch -> datetime.datetime (UTC, tz-aware).\"\"\"\n",
    "    import datetime\n",
    "    ms = int(ms)\n",
    "    seconds = ms // 1000\n",
    "    ms_rem = ms % 1000\n",
    "    dt = datetime.datetime.fromtimestamp(seconds, tz=datetime.timezone.utc)\n",
    "    return dt.replace(microsecond=ms_rem * 1000)\n",
    "\n",
    "# Example\n",
    "dt = datetime.datetime(2025, 9, 5, 13, 28, 10, 661170)\n",
    "print(to_millis(dt))  # -> integer milliseconds since epoch"
   ]
  },
  {
   "cell_type": "code",
   "execution_count": 9,
   "id": "893cd263",
   "metadata": {},
   "outputs": [
    {
     "data": {
      "text/plain": [
       "datetime.datetime(2025, 9, 5, 13, 28, 10, 661000, tzinfo=datetime.timezone.utc)"
      ]
     },
     "execution_count": 9,
     "metadata": {},
     "output_type": "execute_result"
    }
   ],
   "source": [
    "from_millis(1757078890661)  # Example usage"
   ]
  },
  {
   "cell_type": "code",
   "execution_count": null,
   "id": "1f4d21c4",
   "metadata": {},
   "outputs": [],
   "source": []
  }
 ],
 "metadata": {
  "kernelspec": {
   "display_name": "Python 3",
   "language": "python",
   "name": "python3"
  },
  "language_info": {
   "codemirror_mode": {
    "name": "ipython",
    "version": 3
   },
   "file_extension": ".py",
   "mimetype": "text/x-python",
   "name": "python",
   "nbconvert_exporter": "python",
   "pygments_lexer": "ipython3",
   "version": "3.13.1"
  }
 },
 "nbformat": 4,
 "nbformat_minor": 5
}
